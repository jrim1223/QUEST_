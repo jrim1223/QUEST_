{
  "nbformat": 4,
  "nbformat_minor": 0,
  "metadata": {
    "colab": {
      "provenance": [],
      "authorship_tag": "ABX9TyNl5U1j61tvVAFVhWzArAcG",
      "include_colab_link": true
    },
    "kernelspec": {
      "name": "python3",
      "display_name": "Python 3"
    },
    "language_info": {
      "name": "python"
    }
  },
  "cells": [
    {
      "cell_type": "markdown",
      "metadata": {
        "id": "view-in-github",
        "colab_type": "text"
      },
      "source": [
        "<a href=\"https://colab.research.google.com/github/kjr1223/Python_Quest/blob/main/MainQuest01.ipynb\" target=\"_parent\"><img src=\"https://colab.research.google.com/assets/colab-badge.svg\" alt=\"Open In Colab\"/></a>"
      ]
    },
    {
      "cell_type": "code",
      "execution_count": 1,
      "metadata": {
        "id": "CKFka1ayOxuf"
      },
      "outputs": [],
      "source": [
        "# 10. 입출금 내역 출력\n",
        "\n",
        "import random\n",
        "\n",
        "class Account:\n",
        "    \n",
        "    account_count = 0\n",
        "\n",
        "    # 인스턴스 변수 초기화\n",
        "    def __init__(self, name, balance):\n",
        "        self.deposit_count = 0\n",
        "        self.name = name\n",
        "        self.balance = balance\n",
        "        self.bank = \"SC은행\"\n",
        "\n",
        "        self.deposit_log = [] # 입금 내역을 기록하기 위한 리스트 \n",
        "        self.withdraw_log = [] # 출금 내역을 기록하기 위한 리스트 \n",
        "\n",
        "\n",
        "        # 3-2-6 계좌번호 생성을 위한 랜덤 값 생성 \n",
        "        num1 = random.randint(0, 999)\n",
        "        num2 = random.randint(0, 99)\n",
        "        num3 = random.randint(0, 999999)\n",
        "\n",
        "        num1 = str(num1).zfill(3) # 세 자리로 만들기 위해 0으로 채움\n",
        "        num2 = str(num2).zfill(2) # 두 자리로 만들기 위해 0으로 채움 \n",
        "        num3 = str(num3).zfill(6) # 여섯 자리로 만들기 위해 0으로 채움 \n",
        "        self.account_number = num1 + '-' + num2 + '-' + num3  \n",
        "        Account.account_count += 1\n",
        "        self.deposit_log.append(balance)\n",
        "\n",
        "    # 계좌 개설 수량 확인 \n",
        "    def get_account_num(cls):\n",
        "        print(cls.account_count)  \n",
        "\n",
        "    # 입금 메서드\n",
        "    def deposit(self, amount):\n",
        "        if amount >= 1:\n",
        "            self.deposit_log.append(amount)  # 입금 내역에 금액 추가 \n",
        "            self.balance += amount\n",
        "\n",
        "            self.deposit_count += 1\n",
        "            if self.deposit_count % 5 == 0:         \n",
        "                # 입금 횟수가 5회일 때 이자 지급 \n",
        "                self.deposit_log.append(self.balance*0.01) # 이자 지급 내역 추가 \n",
        "                self.balance = self.balance * 1.01\n",
        "\n",
        "    # 출금 메서드\n",
        "    def withdraw(self, amount):\n",
        "        if self.balance > amount:\n",
        "            self.withdraw_log.append(amount)  # 출금 내역에 금액 추가 \n",
        "            self.balance -= amount\n",
        "        else:\n",
        "          print(f\"현재 잔액은 {self.balance}입니다.\")\n",
        "\n",
        "    # 계좌 정보 출력\n",
        "    def display_info(self):\n",
        "        print(f\"은행이름: \", {self.bank})\n",
        "        print(f\"예금주: \", {self.name})\n",
        "        print(f\"계좌번호: \", {self.account_number})\n",
        "        print(f\"잔고: \", {self.balance})\n",
        "\n",
        "    # 출금 내역 출력\n",
        "    def withdraw_history(self):\n",
        "        for amount in self.withdraw_log:\n",
        "            print(f\"출금:\", {amount})   \n",
        "        print(f\"통장 잔고:\", {self.balance})\n",
        "\n",
        "    # 입금 내역 출력\n",
        "    def deposit_history(self):\n",
        "        for amount in self.deposit_log:\n",
        "              print(f\"입금:\",{amount})  "
      ]
    },
    {
      "cell_type": "code",
      "source": [
        "# 인스턴스 생성\n",
        "p = Account(\"Kim\", 100000)\n",
        "\n",
        "# 계좌 정보 출력\n",
        "p.display_info()\n",
        "\n",
        "# 인스턴스 생성\n",
        "p = Account(\"Kim\", 1000)\n",
        "\n",
        "# 입금 메서드 호출\n",
        "p.deposit(100)\n",
        "p.deposit(200)\n",
        "p.deposit(300)\n",
        "\n",
        "# 입금 메서드 출력\n",
        "p.deposit_history()\n",
        "\n",
        "# 출금 메서드 호출\n",
        "p.withdraw(100)\n",
        "p.withdraw(200)\n",
        "\n",
        "# 출금 내역 출력\n",
        "p.withdraw_history()"
      ],
      "metadata": {
        "colab": {
          "base_uri": "https://localhost:8080/"
        },
        "id": "3bQrRVMYO5bY",
        "outputId": "e82dd644-07ec-4b4e-88da-eda706a4dac8"
      },
      "execution_count": 9,
      "outputs": [
        {
          "output_type": "stream",
          "name": "stdout",
          "text": [
            "은행이름:  {'SC은행'}\n",
            "예금주:  {'Kim'}\n",
            "계좌번호:  {'526-67-448250'}\n",
            "잔고:  {100000}\n",
            "입금: {1000}\n",
            "입금: {100}\n",
            "입금: {200}\n",
            "입금: {300}\n",
            "출금: {100}\n",
            "출금: {200}\n",
            "통장 잔고: {1300}\n"
          ]
        }
      ]
    },
    {
      "cell_type": "code",
      "source": [
        "p = Account(\"Eun\", 10000)\n",
        "\n",
        "p.display_info()\n",
        "\n",
        "p = Account(\"Eun\", 1000)\n",
        "p.deposit(100)\n",
        "p.deposit(200)\n",
        "p.deposit(300)\n",
        "p.deposit_history()\n",
        "\n",
        "p.withdraw(100)\n",
        "p.withdraw(200)\n",
        "p.withdraw_history()"
      ],
      "metadata": {
        "colab": {
          "base_uri": "https://localhost:8080/"
        },
        "id": "mosLZAfvPNto",
        "outputId": "5cfb6602-17b0-4a41-e63d-35d3d3fd9a73"
      },
      "execution_count": 10,
      "outputs": [
        {
          "output_type": "stream",
          "name": "stdout",
          "text": [
            "은행이름:  {'SC은행'}\n",
            "예금주:  {'Eun'}\n",
            "계좌번호:  {'230-13-397808'}\n",
            "잔고:  {10000}\n",
            "입금: {1000}\n",
            "입금: {100}\n",
            "입금: {200}\n",
            "입금: {300}\n",
            "출금: {100}\n",
            "출금: {200}\n",
            "통장 잔고: {1300}\n"
          ]
        }
      ]
    }
  ]
}