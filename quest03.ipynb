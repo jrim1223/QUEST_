{
  "nbformat": 4,
  "nbformat_minor": 0,
  "metadata": {
    "colab": {
      "provenance": [],
      "include_colab_link": true
    },
    "kernelspec": {
      "name": "python3",
      "display_name": "Python 3"
    },
    "language_info": {
      "name": "python"
    }
  },
  "cells": [
    {
      "cell_type": "markdown",
      "metadata": {
        "id": "view-in-github",
        "colab_type": "text"
      },
      "source": [
        "<a href=\"https://colab.research.google.com/github/jrim1223/QUEST_/blob/main/quest03.ipynb\" target=\"_parent\"><img src=\"https://colab.research.google.com/assets/colab-badge.svg\" alt=\"Open In Colab\"/></a>"
      ]
    },
    {
      "cell_type": "markdown",
      "source": [
        "[파이썬] 퀘스트: Avengers 2-gram\n",
        "\n",
        "난이도: ★★★☆☆\n",
        "\n",
        "장르: 내장함수 String, Collections, n-gram\n",
        "\n",
        "---\n",
        "* N-gram이란? : https://dojang.io/mod/page/view.php?id=2332\n",
        "\n",
        "다음 조건을 확인하여\n",
        "Avengers Script에서 워드 단위의 2-gram을 구하고, \n",
        "Script에서 가장 빈도가 높은 2-gram 페어를 찾아라!\n",
        "\n",
        "조건:\n",
        "1. 06TheAvengers.txt 파일을 사용한다.\n",
        "2. 모든 문자는 소문자로 변환한다.\n",
        "3. 모든 기호는 제거한 후, 2-gram을 구한다.\n",
        "4. \"I am hungry.....very much...\"를 word 단위로 자르면,[ 'i', 'am', 'hungry', 'very', 'much'] 가 되어야 한다.\n",
        "\n",
        "\n",
        "---\n",
        "\n",
        "입력값 :\n",
        "\n",
        "\"06TheAvengers.txt\" 파일을 입력값으로 넣는다.\n",
        "\n",
        "print(max2gram, countdict[max2gram])\n",
        "print(Counter(baglist))\n",
        "\n",
        "출력값 :\n",
        "\n",
        "('it', 's') 68\n",
        "Counter({('it', 's'): 68, ('i', 'm'): 52, ('don', 't'): 43, ...\n",
        "\n",
        "- 어떻게 단어를 쪼갤것인가?\n",
        "- 가장 많은 빈도로 출현한 바이그램 쌍이 과연 우리가 실제로 쓰는 말과 비교해봤을 때 \n",
        "의미있는 방식으로 바이그램화 되었는가?"
      ],
      "metadata": {
        "id": "Lyj4ltf6aCwh"
      }
    },
    {
      "cell_type": "code",
      "source": [
        "from google.colab import drive\n",
        "drive.mount('/content/drive')"
      ],
      "metadata": {
        "id": "1YvYyHKAkGcI"
      },
      "execution_count": null,
      "outputs": []
    },
    {
      "cell_type": "code",
      "source": [
        "import re\n",
        "from collections import Counter\n",
        "with open('06TheAvengers.txt', 'r') as file:\n",
        "  script = file.read() # 파일 읽기\n",
        "\n",
        "script = script.lower() # 소문자로 변환\n",
        "\n",
        "script = re.sub(r\"[^\\w\\s]\", \"\", script) # 기호 \n",
        "\n",
        "words = script.split()\n",
        "\n",
        "ngram = zip(words, words[1:]) # 2-gram생성\n",
        "\n",
        "for ngram in ngram:\n",
        "  print(ngram) #워드단위의 2-gram으로 구함\n",
        "\n",
        "freq_count = Counter(ngram) #빈도수 계산\n",
        "\n",
        "max_2gram = max(freq_count, key=freq_count.get)\n",
        "\n",
        "print(max_2gram, freq_count[max_2gram])\n",
        "print(freq_count)\n"
      ],
      "metadata": {
        "id": "tnFrViuuZbVQ"
      },
      "execution_count": null,
      "outputs": []
    }
  ]
}