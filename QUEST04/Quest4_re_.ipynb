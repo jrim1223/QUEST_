{
  "nbformat": 4,
  "nbformat_minor": 0,
  "metadata": {
    "colab": {
      "provenance": [],
      "authorship_tag": "ABX9TyNCc+yvjICtEz6pxVb9UzP9",
      "include_colab_link": true
    },
    "kernelspec": {
      "name": "python3",
      "display_name": "Python 3"
    },
    "language_info": {
      "name": "python"
    }
  },
  "cells": [
    {
      "cell_type": "markdown",
      "metadata": {
        "id": "view-in-github",
        "colab_type": "text"
      },
      "source": [
        "<a href=\"https://colab.research.google.com/github/kjr1223/Python_Quest/blob/main/QUEST04/Quest4_re_.ipynb\" target=\"_parent\"><img src=\"https://colab.research.google.com/assets/colab-badge.svg\" alt=\"Open In Colab\"/></a>"
      ]
    },
    {
      "cell_type": "markdown",
      "source": [
        "```python\n",
        "[파이썬] 퀘스트: 물고기들의 움직임을 시뮬레이션하기!\n",
        "\n",
        "난이도: ★★★☆☆\n",
        "\n",
        "장르: 함수, 컴프리헨션, 이터레이터, 제너레이터\n",
        "\n",
        "---\n",
        "\n",
        "다음 조건을 활용하여 물고기가 물 속에서 움직이는 것을 시뮬레이션해보자!\n",
        "\n",
        "조건 :\n",
        "물고기의 움직임을 출력하는 함수를 컴프리헨션과 이터레이터, 제너레이터를 활용해서 만듭니다.\n",
        "물고기 객체의 움직임을 시뮬레이션하는 클래스를 구현해야 합니다.\n",
        "물고기 객체는 이름과 속도 속성을 가져야합니다.\n",
        "물고기 리스트를 활용하셔야합니다.\n",
        "물고기 객체의 움직임은 랜덤하게 선택된 방향으로 이루어지며, 물고기 객체가 움직이는 동안에는 그 움직임이 출력되어야 합니다.\n",
        "물고기 객체의 움직임은 일정 시간 간격으로 반복되어야 합니다.\n",
        "\n",
        "---\n",
        "\n",
        "입력값 : \n",
        "\n",
        "# 물고기 리스트\n",
        "fish_list = [\n",
        "    Fish(\"Nemo\", 3),\n",
        "    Fish(\"Dory\", 5),\n",
        "    Fish(\"Marlin\", 7),\n",
        "    Fish(\"Bubbles\", 2),\n",
        "    Fish(\"Gill\", 4)\n",
        "]\n",
        "\n",
        "# 물고기들의 움직임 출력\n",
        "print(\"Using Comprehension:\")\n",
        "show_fish_movement_comprehension(fish_list)\n",
        "\n",
        "print(\"\\nUsing Iterator:\")\n",
        "show_fish_movement_iterator(fish_list)\n",
        "\n",
        "---\n",
        "\n",
        "출력값 :\n",
        "\n",
        "Using Comprehension:\n",
        "Nemo is swimming at 3 m/s\n",
        "Dory is swimming at 5 m/s\n",
        "Marlin is swimming at 7 m/s\n",
        "Bubbles is swimming at 2 m/s\n",
        "Gill is swimming at 4 m/s\n",
        "\n",
        "Using Iterator:\n",
        "Nemo is swimming at 3 m/s\n",
        "Dory is swimming at 5 m/s\n",
        "Marlin is swimming at 7 m/s\n",
        "Bubbles is swimming at 2 m/s\n",
        "Gill is swimming at 4 m/s\n",
        "```"
      ],
      "metadata": {
        "id": "NKe1_B6kDIWv"
      }
    },
    {
      "cell_type": "code",
      "source": [
        "# fish 클래스 생성\n",
        "class Fish:\n",
        "  def __init__(self, name, speed):\n",
        "    self.name = name\n",
        "    self.speed = speed"
      ],
      "metadata": {
        "id": "dur9gsLiDQ8I"
      },
      "execution_count": 13,
      "outputs": []
    },
    {
      "cell_type": "code",
      "source": [
        "fish_list = [\n",
        "    Fish(\"Nemo\", 3),\n",
        "    Fish(\"Dory\", 5),\n",
        "    Fish(\"Marlin\", 7),\n",
        "    Fish(\"Bubbles\", 2),\n",
        "    Fish(\"Gill\", 4)\n",
        "]\n",
        "\n",
        "# 컴프리헨션 활용해서 움직임 출력하는 함수\n",
        "def show_fish_movement_comprehension(fish_list):\n",
        "  [print(f\"{fish.name} is swimming at {fish.speed} m/s\") for fish in fish_list]\n",
        "\n",
        "print(\"Using Comprehension:\")\n",
        "show_fish_movement_comprehension(fish_list)"
      ],
      "metadata": {
        "colab": {
          "base_uri": "https://localhost:8080/"
        },
        "id": "k2iTiiHBDXD4",
        "outputId": "5636db82-6978-4089-87ea-cdb556388f0c"
      },
      "execution_count": 14,
      "outputs": [
        {
          "output_type": "stream",
          "name": "stdout",
          "text": [
            "Using Comprehension:\n",
            "Nemo is swimming at 3 m/s\n",
            "Dory is swimming at 5 m/s\n",
            "Marlin is swimming at 7 m/s\n",
            "Bubbles is swimming at 2 m/s\n",
            "Gill is swimming at 4 m/s\n"
          ]
        }
      ]
    },
    {
      "cell_type": "code",
      "source": [
        "# # 이터레이터 활용해서 움직임 출력하는 함수\n",
        "# def show_fish_movement_iterator(fish_list):\n",
        "#     for fish in fish_list:\n",
        "#       print(f\"{fish.name} is swimming at {fish.speed} m/s\")\n",
        "\n",
        "# print(\"Using Iterator: \")\n",
        "# show_fish_movement_iterator(fish_list)"
      ],
      "metadata": {
        "id": "WvPmwftbDXfo"
      },
      "execution_count": null,
      "outputs": []
    },
    {
      "cell_type": "code",
      "source": [
        "# 이터레이터 안에 제너레이터 내포\n",
        "def show_fish_movement_iterator(fish_list):\n",
        "  fish_movement = (f\"{fish.name} is swimming at {fish.speed} m/s\" # fish_movement 변수 \n",
        "  for fish in fish_list)\n",
        "  for movement in fish_movement:\n",
        "    print(movement)\n",
        "\n",
        "print(\"Using Iterator:\")\n",
        "show_fish_movement_iterator(fish_list)"
      ],
      "metadata": {
        "colab": {
          "base_uri": "https://localhost:8080/"
        },
        "id": "3TKNPUdPDalP",
        "outputId": "b1aac215-8ecc-4547-f8b2-52ccdc94a9b8"
      },
      "execution_count": 15,
      "outputs": [
        {
          "output_type": "stream",
          "name": "stdout",
          "text": [
            "Using Iterator:\n",
            "Nemo is swimming at 3 m/s\n",
            "Dory is swimming at 5 m/s\n",
            "Marlin is swimming at 7 m/s\n",
            "Bubbles is swimming at 2 m/s\n",
            "Gill is swimming at 4 m/s\n"
          ]
        }
      ]
    }
  ]
}