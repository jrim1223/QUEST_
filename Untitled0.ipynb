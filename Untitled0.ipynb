{
  "nbformat": 4,
  "nbformat_minor": 0,
  "metadata": {
    "colab": {
      "provenance": [],
      "include_colab_link": true
    },
    "kernelspec": {
      "name": "python3",
      "display_name": "Python 3"
    },
    "language_info": {
      "name": "python"
    }
  },
  "cells": [
    {
      "cell_type": "markdown",
      "metadata": {
        "id": "view-in-github",
        "colab_type": "text"
      },
      "source": [
        "<a href=\"https://colab.research.google.com/github/jrim1223/QUEST_/blob/main/Untitled0.ipynb\" target=\"_parent\"><img src=\"https://colab.research.google.com/assets/colab-badge.svg\" alt=\"Open In Colab\"/></a>"
      ]
    },
    {
      "cell_type": "markdown",
      "source": [
        "조건:\n",
        "1. 06TheAvengers.txt 파일을 사용한다.\n",
        "2. 모든 문자는 소문자로 변환한다.\n",
        "3. 모든 기호는 제거한 후, 2-gram을 구한다.\n",
        "4. \"I am hungry.....very much...\"를 word 단위로 자르면,[ 'i', 'am', 'hungry', 'very', 'much'] 가 되어야 한다."
      ],
      "metadata": {
        "id": "Lyj4ltf6aCwh"
      }
    },
    {
      "cell_type": "markdown",
      "source": [
        "The Tesseract has awakened.\n",
        "It is on a neutral world, a human world.\n",
        "They wield its power,\n",
        "but our ally knows it's working, so that they never will learn.\n",
        "He's ready to lead, and our force, our Chitauri will follow.\n",
        "The world will be his and the universe yours.\n",
        "And the humans, what can they do, but burn.\n",
        "How bad is it?\n",
        "That's the problem, sir. We don't know.\n",
        "Dr. Selvig read an energy surge from the Tesseract four hour ago.\n",
        "NASA didn't authorize Selvig to pull the test phase.\n",
        "He wasn't testing it, he wasn't even in the room. Spontaneous advancement\n",
        "It just turned itself on?\n",
        "What are the engine levels now?\n",
        "Climbing. When Selvig couldn't shut it down, we ordered the evac.\n",
        "How long to get everyone out?\n",
        "Campus should be clear in the next half hour.\n",
        "Do better.\n",
        "Sir, evacuation maybe futile.\n",
        "We should tell them to go back to sleep?\n",
        "If we can't control the Tesseract's energy,\n",
        "there may not be a minimum safe distance.\n",
        "I need you to make sure that phase\n",
        "Sir, is that really a priority right now?\n",
        "Until such time as the world ends,\n",
        "we will act as though it intends to spin on.\n",
        "Clear out the tech below. Every piece of phase 2 on a truck and gone.\n",
        "Yes, sir. Come with me."
      ],
      "metadata": {
        "id": "-Kr6sRzmhqLQ"
      }
    },
    {
      "cell_type": "code",
      "source": [
        "from google.colab import drive\n",
        "drive.mount('/content/drive')"
      ],
      "metadata": {
        "id": "1YvYyHKAkGcI",
        "colab": {
          "base_uri": "https://localhost:8080/"
        },
        "outputId": "403858b2-3745-404a-96a7-840c6165d720"
      },
      "execution_count": null,
      "outputs": [
        {
          "output_type": "stream",
          "name": "stdout",
          "text": [
            "Mounted at /content/drive\n"
          ]
        }
      ]
    },
    {
      "cell_type": "code",
      "source": [],
      "metadata": {
        "id": "tnFrViuuZbVQ"
      },
      "execution_count": null,
      "outputs": []
    }
  ]
}